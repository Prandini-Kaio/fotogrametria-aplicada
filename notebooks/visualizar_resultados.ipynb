{
 "cells": [
  {
   "cell_type": "code",
   "execution_count": null,
   "id": "3b55ba78",
   "metadata": {},
   "outputs": [],
   "source": [
    "from ctypes import pointer\n",
    "import open3d as o3d\n",
    "\n",
    "from src.print_utils import ColorPrinter\n",
    "\n",
    "pc = o3d.io.read_point_cloud(\"../colmap_pipeline/dense/fused,ply\")\n",
    "\n",
    "ColorPrinter.info(f\"Pontos carregados: {len(pc.points)}\")\n",
    "o3d.visualization.draw_geometries([pc])"
   ]
  }
 ],
 "metadata": {
  "language_info": {
   "name": "python"
  }
 },
 "nbformat": 4,
 "nbformat_minor": 5
}
