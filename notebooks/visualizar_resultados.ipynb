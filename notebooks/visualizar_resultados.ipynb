{
 "cells": [
  {
   "cell_type": "code",
   "execution_count": 2,
   "id": "3b55ba78",
   "metadata": {},
   "outputs": [
    {
     "name": "stdout",
     "output_type": "stream",
     "text": [
      "\u001b[1;33m[Open3D WARNING] Read geometry::PointCloud failed: unknown file extension for ../colmap_pipeline/dense/fused,ply (format: auto).\u001b[0;m\n",
      "\u001b[1;33m[Open3D WARNING] The number of points is 0 when creating axis-aligned bounding box.\u001b[0;m\n"
     ]
    }
   ],
   "source": [
    "from ctypes import pointer\n",
    "import open3d as o3d\n",
    "\n",
    "pc = o3d.io.read_point_cloud(\"../colmap_pipeline/dense/fused,ply\")\n",
    "\n",
    "o3d.visualization.draw_geometries([pc])"
   ]
  }
 ],
 "metadata": {
  "kernelspec": {
   "display_name": "Python 3",
   "language": "python",
   "name": "python3"
  },
  "language_info": {
   "codemirror_mode": {
    "name": "ipython",
    "version": 3
   },
   "file_extension": ".py",
   "mimetype": "text/x-python",
   "name": "python",
   "nbconvert_exporter": "python",
   "pygments_lexer": "ipython3",
   "version": "3.10.12"
  }
 },
 "nbformat": 4,
 "nbformat_minor": 5
}
