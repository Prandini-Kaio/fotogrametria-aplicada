{
 "cells": [
  {
   "cell_type": "code",
   "execution_count": 2,
   "id": "34a91705",
   "metadata": {},
   "outputs": [
    {
     "name": "stdout",
     "output_type": "stream",
     "text": [
      "Total de matches: 1794\n",
      "Válidos: 457470\n",
      "Shape proj1: (3, 4)\n",
      "Shape proj2: (3, 4)\n",
      "Shape pts1_valid: (2, 1794)\n",
      "Shape pts2_valid: (2, 1794)\n",
      "[INFO] Pontos triangulados: 1794\n",
      "[INFO] Matriz de rotação:\n",
      "[[ 0.98283907  0.18188483  0.03074519]\n",
      " [-0.17938498  0.90355727  0.38910833]\n",
      " [ 0.04299286 -0.3879461   0.92067879]]\n",
      "[INFO] Vetor de translação:\n",
      "[-0.11161873 -0.96632637  0.23185038]\n"
     ]
    }
   ],
   "source": [
    "import cv2\n",
    "import numpy as np\n",
    "import matplotlib.pyplot as plt\n",
    "import open3d as o3d\n",
    "from pathlib import Path\n",
    "\n",
    "from src import preprocessamento, deteccao_pontos, reconstrucao_sfm\n",
    "\n",
    "# Parâmetros da câmera (SIMPLE_RADIAL)\n",
    "K = np.array([\n",
    "    [2559.68, 0, 1536],\n",
    "    [0, 2559.68, 1152],\n",
    "    [0, 0, 1]\n",
    "], dtype=np.float32)\n",
    "dist = np.array([-0.0204997, 0, 0, 0, 0], dtype=np.float32)\n",
    "\n",
    "img1_path = \"/home/kaiooliveira/Documentos/kaio/dev/Fotogrametria/fotogrametria_aplicada/data/bruto/south-building/images/P1180142.JPG\" \n",
    "img2_path = \"/home/kaiooliveira/Documentos/kaio/dev/Fotogrametria/fotogrametria_aplicada/data/bruto/south-building/images/P1180143.JPG\" \n",
    "\n",
    "img1 = preprocessamento.processar_imagem(str(img1_path), K, dist)\n",
    "img2 = preprocessamento.processar_imagem(str(img2_path), K, dist)\n",
    "\n",
    "kp1, desc1 = deteccao_pontos.detectar_pontos(img1, metodo=\"SIFT\")\n",
    "kp2, desc2 = deteccao_pontos.detectar_pontos(img2, metodo=\"SIFT\")\n",
    "matches = deteccao_pontos.corresponder_descritores(desc1, desc2, metodo=\"BF\")\n",
    "\n",
    "pontos_3d, R, t, _ = reconstrucao_sfm.estimar_poses_e_triangulacao(kp1, kp2, matches, K)\n",
    "\n",
    "print(f\"[INFO] Pontos triangulados: {pontos_3d.shape[0]}\")\n",
    "print(f\"[INFO] Matriz de rotação:\\n{R}\")\n",
    "print(f\"[INFO] Vetor de translação:\\n{t.ravel()}\")\n",
    "\n",
    "\n",
    "def mostrar_nuvem_pontos(pontos):\n",
    "    pc = o3d.geometry.PointCloud()\n",
    "    pc.points = o3d.utility.Vector3dVector(pontos)\n",
    "    pc.paint_uniform_color([0.1, 0.6, 0.1])\n",
    "    o3d.visualization.draw_geometries([pc])\n",
    "\n",
    "mostrar_nuvem_pontos(pontos_3d)"
   ]
  }
 ],
 "metadata": {
  "kernelspec": {
   "display_name": "fotogrametria (3.10.12)",
   "language": "python",
   "name": "python3"
  },
  "language_info": {
   "codemirror_mode": {
    "name": "ipython",
    "version": 3
   },
   "file_extension": ".py",
   "mimetype": "text/x-python",
   "name": "python",
   "nbconvert_exporter": "python",
   "pygments_lexer": "ipython3",
   "version": "3.10.12"
  }
 },
 "nbformat": 4,
 "nbformat_minor": 5
}
