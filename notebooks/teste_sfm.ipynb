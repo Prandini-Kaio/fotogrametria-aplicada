{
 "cells": [
  {
   "cell_type": "code",
   "execution_count": 2,
   "id": "34a91705",
   "metadata": {},
   "outputs": [
    {
     "ename": "ModuleNotFoundError",
     "evalue": "No module named 'src'",
     "output_type": "error",
     "traceback": [
      "\u001B[0;31m---------------------------------------------------------------------------\u001B[0m",
      "\u001B[0;31mModuleNotFoundError\u001B[0m                       Traceback (most recent call last)",
      "Cell \u001B[0;32mIn[2], line 7\u001B[0m\n\u001B[1;32m      4\u001B[0m \u001B[38;5;28;01mimport\u001B[39;00m\u001B[38;5;250m \u001B[39m\u001B[38;5;21;01mopen3d\u001B[39;00m\u001B[38;5;250m \u001B[39m\u001B[38;5;28;01mas\u001B[39;00m\u001B[38;5;250m \u001B[39m\u001B[38;5;21;01mo3d\u001B[39;00m\n\u001B[1;32m      5\u001B[0m \u001B[38;5;28;01mfrom\u001B[39;00m\u001B[38;5;250m \u001B[39m\u001B[38;5;21;01mpathlib\u001B[39;00m\u001B[38;5;250m \u001B[39m\u001B[38;5;28;01mimport\u001B[39;00m Path\n\u001B[0;32m----> 7\u001B[0m \u001B[38;5;28;01mfrom\u001B[39;00m\u001B[38;5;250m \u001B[39m\u001B[38;5;21;01msrc\u001B[39;00m\u001B[38;5;250m \u001B[39m\u001B[38;5;28;01mimport\u001B[39;00m preprocessamento, deteccao_pontos, reconstrucao_sfm\n\u001B[1;32m      9\u001B[0m \u001B[38;5;66;03m# Parâmetros da câmera (SIMPLE_RADIAL)\u001B[39;00m\n\u001B[1;32m     10\u001B[0m K \u001B[38;5;241m=\u001B[39m np\u001B[38;5;241m.\u001B[39marray([\n\u001B[1;32m     11\u001B[0m     [\u001B[38;5;241m2559.68\u001B[39m, \u001B[38;5;241m0\u001B[39m, \u001B[38;5;241m1536\u001B[39m],\n\u001B[1;32m     12\u001B[0m     [\u001B[38;5;241m0\u001B[39m, \u001B[38;5;241m2559.68\u001B[39m, \u001B[38;5;241m1152\u001B[39m],\n\u001B[1;32m     13\u001B[0m     [\u001B[38;5;241m0\u001B[39m, \u001B[38;5;241m0\u001B[39m, \u001B[38;5;241m1\u001B[39m]\n\u001B[1;32m     14\u001B[0m ], dtype\u001B[38;5;241m=\u001B[39mnp\u001B[38;5;241m.\u001B[39mfloat32)\n",
      "\u001B[0;31mModuleNotFoundError\u001B[0m: No module named 'src'"
     ]
    }
   ],
   "source": [
    "\n",
    "import numpy as np\n",
    "import open3d as o3d\n",
    "\n",
    "from src import preprocessamento\n",
    "from src.deteccaopontos import deteccao_pontos\n",
    "from src.sfm import reconstrucao_sfm\n",
    "\n",
    "# Parâmetros da câmera (SIMPLE_RADIAL)\n",
    "K = np.array([\n",
    "    [2559.68, 0, 1536],\n",
    "    [0, 2559.68, 1152],\n",
    "    [0, 0, 1]\n",
    "], dtype=np.float32)\n",
    "dist = np.array([-0.0204997, 0, 0, 0, 0], dtype=np.float32)\n",
    "\n",
    "img1_path = \"/home/kaiooliveira/Documentos/kaio/dev/Fotogrametria/fotogrametria_aplicada/data/bruto/south-building/images/P1180142.JPG\" \n",
    "img2_path = \"/home/kaiooliveira/Documentos/kaio/dev/Fotogrametria/fotogrametria_aplicada/data/bruto/south-building/images/P1180143.JPG\" \n",
    "\n",
    "img1 = preprocessamento.processar_imagem(str(img1_path), K, dist)\n",
    "img2 = preprocessamento.processar_imagem(str(img2_path), K, dist)\n",
    "\n",
    "kp1, desc1 = deteccao_pontos.detectar_pontos(img1, metodo=\"SIFT\")\n",
    "kp2, desc2 = deteccao_pontos.detectar_pontos(img2, metodo=\"SIFT\")\n",
    "matches = deteccao_pontos.corresponder_descritores(desc1, desc2, metodo=\"BF\")\n",
    "\n",
    "pontos_3d, R, t, _ = reconstrucao_sfm.estimar_poses_e_triangulacao(kp1, kp2, matches, K)\n",
    "\n",
    "print(f\"[INFO] Pontos triangulados: {pontos_3d.shape[0]}\")\n",
    "print(f\"[INFO] Matriz de rotação:\\n{R}\")\n",
    "print(f\"[INFO] Vetor de translação:\\n{t.ravel()}\")\n",
    "\n",
    "\n",
    "def mostrar_nuvem_pontos(pontos):\n",
    "    pc = o3d.geometry.PointCloud()\n",
    "    pc.points = o3d.utility.Vector3dVector(pontos)\n",
    "    pc.paint_uniform_color([0.1, 0.6, 0.1])\n",
    "    o3d.visualization.draw_geometries([pc])\n",
    "\n",
    "mostrar_nuvem_pontos(pontos_3d)"
   ]
  }
 ],
 "metadata": {
  "kernelspec": {
   "display_name": "Python 3",
   "language": "python",
   "name": "python3"
  },
  "language_info": {
   "codemirror_mode": {
    "name": "ipython",
    "version": 3
   },
   "file_extension": ".py",
   "mimetype": "text/x-python",
   "name": "python",
   "nbconvert_exporter": "python",
   "pygments_lexer": "ipython3",
   "version": "3.10.12"
  }
 },
 "nbformat": 4,
 "nbformat_minor": 5
}
